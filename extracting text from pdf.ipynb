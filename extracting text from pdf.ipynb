{
 "cells": [
  {
   "cell_type": "code",
   "execution_count": 1,
   "metadata": {},
   "outputs": [],
   "source": [
    "import cv2"
   ]
  },
  {
   "attachments": {},
   "cell_type": "markdown",
   "metadata": {},
   "source": [
    "https://pypi.org/project/pytesseract/"
   ]
  },
  {
   "cell_type": "code",
   "execution_count": 2,
   "metadata": {},
   "outputs": [],
   "source": [
    "import pytesseract\n",
    "from PIL import Image\n",
    "import PyPDF2\n",
    "pytesseract.pytesseract.tesseract_cmd = r'C:\\\\Program Files\\\\Tesseract-OCR\\tesseract.exe'"
   ]
  },
  {
   "cell_type": "code",
   "execution_count": 9,
   "metadata": {},
   "outputs": [],
   "source": [
    "pdf_path = \"conti.pdf\"\n",
    "pdf_file = open(pdf_path, 'rb')\n",
    "pdf_reader = PyPDF2.PdfReader(pdf_file)\n",
    "num_pages = len(pdf_reader.pages)"
   ]
  },
  {
   "cell_type": "code",
   "execution_count": 6,
   "metadata": {},
   "outputs": [],
   "source": [
    "from pypdf import PdfReader\n",
    "\n",
    "reader = PdfReader(\"conti.pdf\")\n",
    "number_of_pages = len(reader.pages)\n",
    "page = reader.pages[0]\n",
    "text = page.extract_text()"
   ]
  },
  {
   "cell_type": "code",
   "execution_count": 12,
   "metadata": {},
   "outputs": [
    {
     "data": {
      "text/plain": [
       "['    Promoções e preços válidos — 28 de março a 3 de abril de 2023.    continente         TUDO |                             BMPURINA|    Your Pet, Our Passion.         “NO-CAMARÃO INTEIRO FRESCO    NO POLVO CONGELADO  DO-BALCAO-DE ATENDIMENTO    DA MARCA CONTINENTE                                107º:    BACALHAU 1º  DANORUEGA  CONTINENTE  SALGADO SECO cui  INTEIRO a              |  3:                             A   BORREGO [7 as | PERNA DE PERU, PERA ROCHA   INTEIRO, HZ 4 - é ” z =| CONTINENTE BN DOPOESTE   METADES 4 E - \\' 7 CONGELADAS (BALCÃO DE E   EQUARTOS o e \" EMB::IKG ho SA É > | ATENDIMENTO) | sda   | CA | É  E |  ” |  «6  E  a —  NA MARCA OLIVEIRA DA SERRA. E E NAS. AMÊNDOAS DE PÁSCOA  É We LE (EXCETO MARCA BEM MEQUER)-..  “    ETES    FRALDAS         BEBE SECO EXTRA  T3/T4/15/T6.   EMB.: 66 UNID /   62 UNID /56 UNID /   | 48 UNID                                  VIRGEM EX == q    VERDE DO ez;  E ) | CláudiasNç + no 5                                           ']"
      ]
     },
     "execution_count": 12,
     "metadata": {},
     "output_type": "execute_result"
    }
   ],
   "source": [
    "type(text)\n",
    "text.split('\\n') "
   ]
  },
  {
   "cell_type": "code",
   "execution_count": 3,
   "metadata": {},
   "outputs": [],
   "source": [
    "from pdf2image import convert_from_bytes"
   ]
  },
  {
   "cell_type": "code",
   "execution_count": 8,
   "metadata": {},
   "outputs": [
    {
     "name": "stdout",
     "output_type": "stream",
     "text": [
      "Promoções e preços válidos — 28 de março a 3 de abril de 2023.\n",
      "\n",
      "continente\n",
      "\n",
      "TUDO |\n",
      "\n",
      "BMPURINA|\n",
      "\n",
      "Your Pet, Our Passion.\n",
      "\n",
      "“NO-CAMARÃO INTEIRO FRESCO\n",
      "\n",
      "NO POLVO CONGELADO\n",
      "DO-BALCAO-DE ATENDIMENTO\n",
      "\n",
      "DA MARCA CONTINENTE\n",
      "\n",
      "107º:\n",
      "\n",
      "BACALHAU 1º\n",
      "DANORUEGA\n",
      "CONTINENTE\n",
      "SALGADO SECO cui\n",
      "INTEIRO a\n",
      "\n",
      "|\n",
      "3:\n",
      "\n",
      "A\n",
      "\n",
      "BORREGO [7 as | PERNA DE PERU, PERA ROCHA\n",
      "\n",
      "INTEIRO, HZ 4 - é ” z =| CONTINENTE BN DOPOESTE\n",
      "\n",
      "METADES 4 E - ' 7 CONGELADAS (BALCÃO DE E\n",
      "\n",
      "EQUARTOS o e \" EMB::IKG ho SA É > | ATENDIMENTO) | sda\n",
      "\n",
      "| CA | É\n",
      "E |\n",
      "” |\n",
      "«6\n",
      "E\n",
      "a —\n",
      "NA MARCA OLIVEIRA DA SERRA. E E NAS. AMÊNDOAS DE PÁSCOA\n",
      "É We LE (EXCETO MARCA BEM MEQUER)-..\n",
      "“\n",
      "\n",
      "ETES\n",
      "\n",
      "FRALDAS\n",
      "\n",
      "BEBE SECO EXTRA\n",
      "T3/T4/15/T6.\n",
      "\n",
      "EMB.: 66 UNID /\n",
      "\n",
      "62 UNID /56 UNID /\n",
      "\n",
      "| 48 UNID\n",
      "\n",
      "VIRGEM EX == q\n",
      "\n",
      "VERDE DO ez;\n",
      "E ) | CláudiasNç + no 5\n",
      "\n",
      "\n"
     ]
    }
   ],
   "source": [
    "from pdf2image import convert_from_path\n",
    "import pytesseract\n",
    "\n",
    "# Convert PDF to image\n",
    "pages = convert_from_path('conti.pdf')\n",
    "\n",
    "# Extract text from image\n",
    "text = pytesseract.image_to_string(pages[0],lang=\"por\")\n",
    "print(text)"
   ]
  },
  {
   "cell_type": "code",
   "execution_count": 9,
   "metadata": {},
   "outputs": [],
   "source": [
    "import pdf2image\n",
    "import pytesseract\n",
    "from pytesseract import Output, TesseractError\n",
    "\n",
    "pdf_path = \"conti.pdf\"\n",
    "\n",
    "images = pdf2image.convert_from_path(pdf_path)\n",
    "\n",
    "pil_im = images[0] # assuming that we're interested in the first page only\n",
    "\n",
    "ocr_dict = pytesseract.image_to_data(pil_im, lang='por', output_type=Output.DICT)\n",
    "# ocr_dict now holds all the OCR info including text and location on the image\n",
    "\n",
    "text = \" \".join(ocr_dict['text'])"
   ]
  },
  {
   "attachments": {},
   "cell_type": "markdown",
   "metadata": {},
   "source": [
    "## extraindo dados a partir de imagem"
   ]
  },
  {
   "cell_type": "code",
   "execution_count": 19,
   "metadata": {},
   "outputs": [
    {
     "name": "stdout",
     "output_type": "stream",
     "text": [
      "\n"
     ]
    }
   ],
   "source": [
    "img = cv2.imread('pagina-01_1100_1556.jpg')\n",
    "gray = cv2.cvtColor(img, cv2.COLOR_BGR2GRAY)\n",
    "\n",
    "# Apply thresholding to convert the image to black and white\n",
    "thresh = cv2.threshold(gray, 0, 255, cv2.THRESH_BINARY_INV + cv2.THRESH_OTSU)[1]\n",
    "\n",
    "# Apply dilation to enhance the text\n",
    "kernel = cv2.getStructuringElement(cv2.MORPH_RECT, (3,3))\n",
    "dilated = cv2.dilate(thresh, kernel, iterations=5)\n",
    "\n",
    "# Apply Tesseract OCR to recognize the text\n",
    "text = pytesseract.image_to_string(dilated, lang='por')\n",
    "\n",
    "# Print the extracted text\n",
    "print(text)"
   ]
  },
  {
   "cell_type": "code",
   "execution_count": 24,
   "metadata": {},
   "outputs": [
    {
     "name": "stdout",
     "output_type": "stream",
     "text": [
      "Folheto de 12 a 15 agosto 2022\n",
      "\n",
      "folhetos\n",
      "sempre\n",
      "à mão.\n",
      "\n",
      "- E == é\n",
      "A\n",
      "| |\n",
      "» NOS VINHOS DAS REGIÕES DO\n",
      "2 5 DOURO, DÃO, BEIRAS E BAIRRADA E\n",
      "DEVIDAMENTE ASSINALADOS |\n",
      "ante E ses\n",
      "Rm PRONTO t sas\n",
      "\n",
      "e pes K peso Y 0 Es\n",
      "ralves q| aumenouo dD? Ê &\n",
      "\n",
      "IBOS DE BACAI\n",
      "9 MESES DE CURA\n",
      "5509\n",
      "\n",
      "POSTA TRADICIONAL DE BACALHAU\n",
      "4 MESES DE CURA\n",
      "7509\n",
      "\n",
      "\n"
     ]
    }
   ],
   "source": [
    "print(pytesseract.image_to_string(Image.open('pagina-01_1100_1556.jpg'), lang='por'))"
   ]
  },
  {
   "cell_type": "code",
   "execution_count": 27,
   "metadata": {},
   "outputs": [
    {
     "name": "stdout",
     "output_type": "stream",
     "text": [
      "\n"
     ]
    }
   ],
   "source": [
    "img_rgb = Image.frombytes('RGB', img.shape[:2], img, 'raw', 'BGR', 0, 0)\n",
    "print(pytesseract.image_to_string(img_rgb))"
   ]
  },
  {
   "cell_type": "code",
   "execution_count": 28,
   "metadata": {},
   "outputs": [
    {
     "data": {
      "text/plain": [
       "''"
      ]
     },
     "execution_count": 28,
     "metadata": {},
     "output_type": "execute_result"
    }
   ],
   "source": [
    "pytesseract.image_to_string(img_rgb)"
   ]
  }
 ],
 "metadata": {
  "kernelspec": {
   "display_name": "Python 3",
   "language": "python",
   "name": "python3"
  },
  "language_info": {
   "codemirror_mode": {
    "name": "ipython",
    "version": 3
   },
   "file_extension": ".py",
   "mimetype": "text/x-python",
   "name": "python",
   "nbconvert_exporter": "python",
   "pygments_lexer": "ipython3",
   "version": "3.11.1"
  },
  "orig_nbformat": 4,
  "vscode": {
   "interpreter": {
    "hash": "4afb67c58bad5cca0bf9da2e077ab2b3b215d5fa7ceb99df462e5b41ca2a0fe5"
   }
  }
 },
 "nbformat": 4,
 "nbformat_minor": 2
}
