{
 "cells": [
  {
   "attachments": {},
   "cell_type": "markdown",
   "metadata": {},
   "source": [
    "Pycaret\n",
    "https://pycaret.gitbook.io/docs/get-started/tutorials\n",
    "https://github.com/pycaret/pycaret/blob/master/tutorials/time_series/forecasting/univariate_without_exogeneous_part1.ipynb\n",
    "\n",
    "Algorithm Trading\n",
    "https://www.youtube.com/watch?v=FEDBsbTFG1o\n",
    "https://www.youtube.com/watch?v=PuZY9q-aKLw\n",
    "\n",
    "TODO:\n",
    "Achar alguns datasets melhores de timeseries (Rami Krispin)"
   ]
  },
  {
   "cell_type": "code",
   "execution_count": 33,
   "metadata": {},
   "outputs": [],
   "source": [
    "import pandas as pd\n",
    "import matplotlib.pyplot as plt\n",
    "#import pandas_datareader as web\n",
    "from pandas_datareader import data as web\n",
    "import datetime as dt\n",
    "import numpy as np\n",
    "from sklearn.preprocessing import MinMaxScaler"
   ]
  },
  {
   "attachments": {},
   "cell_type": "markdown",
   "metadata": {},
   "source": [
    "# Obtendo Bitcoin to USD"
   ]
  },
  {
   "cell_type": "code",
   "execution_count": null,
   "metadata": {},
   "outputs": [],
   "source": [
    "crypto='BTC'\n",
    "against='USD'\n",
    "\n",
    "start=dt.datetime(2016,1,1)\n",
    "end=dt.datetime.now()\n",
    "\n",
    "import yfinance as yfin\n",
    "yfin.pdr_override()\n",
    "#bit_usd = web.DataReader(teste,'yahoo',start,end)\n",
    "data = yfin.download(f'{crypto}-{against}', start , end)\n",
    "data.head()"
   ]
  },
  {
   "attachments": {},
   "cell_type": "markdown",
   "metadata": {},
   "source": [
    "# Obtendo cotação BRL-USD"
   ]
  },
  {
   "cell_type": "code",
   "execution_count": null,
   "metadata": {},
   "outputs": [],
   "source": [
    "import yfinance as yf\n",
    "\n",
    "# Define the ticker symbol for the BRL to USD exchange rate\n",
    "ticker = 'BRL=X'\n",
    "\n",
    "# Set the start and end dates for the data\n",
    "start_date = '2016-01-01'\n",
    "end_date = dt.datetime.now()\n",
    "\n",
    "# Retrieve the data from Yahoo Finance\n",
    "data = yf.download(ticker, start=start_date, end=end_date)\n",
    "\n",
    "data.reset_index()\n",
    "\n",
    "# Print the first few rows of the DataFrame\n",
    "print(data.head())"
   ]
  },
  {
   "cell_type": "code",
   "execution_count": null,
   "metadata": {},
   "outputs": [],
   "source": [
    "time_periods = [7, 14, 30, 60]\n",
    "for period in time_periods:\n",
    "    ma_col = 'MA{}'.format(period)\n",
    "    data[ma_col] = data['Close'].rolling(period).mean()\n",
    "\n",
    "#data['MA12'] = data['Close'].rolling(12).mean()\n",
    "data.tail()"
   ]
  },
  {
   "cell_type": "code",
   "execution_count": null,
   "metadata": {},
   "outputs": [],
   "source": [
    "import plotly.express as px\n",
    "fig = px.line(data.reset_index(), x=\"Date\", y=[\"Close\", \"MA7\",\"MA14\",\"MA30\",\"MA60\"], template = 'plotly_dark')\n",
    "fig.show()"
   ]
  },
  {
   "attachments": {},
   "cell_type": "markdown",
   "metadata": {},
   "source": [
    "# Dados de consumo de Gás US"
   ]
  },
  {
   "cell_type": "code",
   "execution_count": null,
   "metadata": {},
   "outputs": [],
   "source": [
    "data = pd.read_csv(\"dados.csv\",index_col=False)\n",
    "data = data.loc[:,['date','y']]\n",
    "data['date'] = pd.to_datetime(data['date'])\n",
    "data.head()"
   ]
  },
  {
   "cell_type": "code",
   "execution_count": null,
   "metadata": {},
   "outputs": [],
   "source": [
    "# extract month and year from dates**\n",
    "data.reset_index(inplace=True)\n",
    "data['Day'] = [i.day for i in data['date']]\n",
    "data['Month'] = [i.month for i in data['date']]\n",
    "data['Year'] = [i.year for i in data['date']]\n",
    "\n",
    "# create a sequence of numbers\n",
    "#data['Series'] = np.arange(1,len(data)+1)\n",
    "\n",
    "# drop unnecessary columns and re-arrange\n",
    "#data.drop(['Date', 'MA7','MA14','MA30','MA60'], axis=1, inplace=True)\n",
    "#data = data[['Series', 'Year', 'Month', 'Day','Close']] \n",
    "data = data[[ 'Year', 'Month', 'Day','y']] \n",
    "\n",
    "# check the head of the dataset**\n",
    "data.head()"
   ]
  },
  {
   "attachments": {},
   "cell_type": "markdown",
   "metadata": {},
   "source": [
    "# Preparando dados"
   ]
  },
  {
   "attachments": {},
   "cell_type": "markdown",
   "metadata": {},
   "source": [
    "# EDA"
   ]
  },
  {
   "cell_type": "code",
   "execution_count": null,
   "metadata": {},
   "outputs": [],
   "source": [
    "from pycaret.time_series import TSForecastingExperiment\n",
    "eda = TSForecastingExperiment()\n",
    "fig_kwargs = {\n",
    "    # \"renderer\": \"notebook\",\n",
    "    \"renderer\": \"png\",\n",
    "    \"width\": 1200,\n",
    "    \"height\": 800,\n",
    "}\n",
    "eda.setup(data=data, fh=21,fig_kwargs=fig_kwargs,target='y')"
   ]
  },
  {
   "cell_type": "code",
   "execution_count": null,
   "metadata": {},
   "outputs": [],
   "source": [
    "eda.plot_model()\n",
    "#eda.plot_model(plot=\"periodogram\")\n",
    "#eda.plot_model(plot=\"fft\")\n",
    "#eda.plot_model(plot=\"acf\")\n",
    "eda.plot_model(plot=\"diagnostics\")"
   ]
  },
  {
   "cell_type": "code",
   "execution_count": null,
   "metadata": {},
   "outputs": [],
   "source": [
    "eda.check_stats()\n",
    "eda.check_stats(test=\"summary\")\n",
    "eda.plot_model(plot=\"train_test_split\", fig_kwargs={\"height\": 400, \"width\": 900})\n",
    "eda.plot_model(plot=\"decomp_stl\", fig_kwargs={\"height\": 500})\n",
    "# Show the Cross Validation splits inside the train set\n",
    "# The blue dots represent the training data for each fold.\n",
    "# The orange dots represent the validation data for each fold\n",
    "eda.plot_model(plot=\"cv\", fig_kwargs={\"height\": 400, \"width\": 900})"
   ]
  },
  {
   "attachments": {},
   "cell_type": "markdown",
   "metadata": {},
   "source": [
    "# Modeling"
   ]
  },
  {
   "cell_type": "code",
   "execution_count": null,
   "metadata": {},
   "outputs": [],
   "source": [
    "train = data[data['Year'] < 2021]\n",
    "test = data[data['Year'] >= 2021]\n",
    "train.shape, test.shape"
   ]
  },
  {
   "cell_type": "code",
   "execution_count": null,
   "metadata": {},
   "outputs": [],
   "source": [
    "from pycaret.regression import *\n",
    "s = setup(data = train, test_data = test, target = 'y', fold_strategy = 'timeseries', numeric_features = ['Year', 'Month','Day'], fold = 5, session_id = 123)"
   ]
  },
  {
   "cell_type": "code",
   "execution_count": null,
   "metadata": {},
   "outputs": [],
   "source": [
    "#best = compare_models(sort='R2')\n",
    "#best\n",
    "best_baseline_models = compare_models(n_select=3)\n",
    "best_baseline_models"
   ]
  },
  {
   "cell_type": "code",
   "execution_count": null,
   "metadata": {},
   "outputs": [],
   "source": [
    "best_tuned_models = [tune_model(model) for model in best_baseline_models]\n",
    "best_tuned_models"
   ]
  },
  {
   "cell_type": "code",
   "execution_count": null,
   "metadata": {},
   "outputs": [],
   "source": [
    "for i in range(0,3):\n",
    "    plot_model(best_tuned_models[i], plot='error')\n",
    "    plot_model(best_tuned_models[i])\n",
    "    predict_model(best_tuned_models[i])\n",
    "    print(best_tuned_models[i])"
   ]
  },
  {
   "cell_type": "code",
   "execution_count": null,
   "metadata": {},
   "outputs": [],
   "source": [
    "#lightgbm = create_model('br')\n",
    "#tuned_lightgbm = tune_model(lightgbm)"
   ]
  },
  {
   "cell_type": "code",
   "execution_count": null,
   "metadata": {},
   "outputs": [],
   "source": [
    "prediction_holdout = predict_model(top5)"
   ]
  },
  {
   "cell_type": "code",
   "execution_count": null,
   "metadata": {},
   "outputs": [],
   "source": [
    "predictions = predict_model(best_tuned_models[0], data=data)\n",
    "predictions.head()"
   ]
  },
  {
   "cell_type": "code",
   "execution_count": null,
   "metadata": {},
   "outputs": [],
   "source": [
    "import plotly.express as px\n",
    "predictions['date'] = pd.to_datetime(data[['Day', 'Month', 'Year']])\n",
    "fig = px.line(predictions, x='date', y=[\"y\", \"prediction_label\"], template = 'plotly_dark')\n",
    "fig.add_vrect(x0=\"2013-01-01\", x1=\"2022-12-31\", fillcolor=\"grey\", opacity=0.25, line_width=0)\n",
    "fig.show()"
   ]
  },
  {
   "cell_type": "code",
   "execution_count": null,
   "metadata": {},
   "outputs": [],
   "source": [
    "final_best = finalize_model(best_tuned_models[0])"
   ]
  },
  {
   "cell_type": "code",
   "execution_count": null,
   "metadata": {},
   "outputs": [],
   "source": [
    "#future_dates = pd.date_range('2023-04-24', '2023-05-20', freq='B')\n",
    "future_dates = pd.date_range('2023-01-01', '2024-06-01', freq='MS')\n",
    "\n",
    "future_df = pd.DataFrame()\n",
    "\n",
    "future_df['Day'] = [i.day for i in future_dates]\n",
    "future_df['Month'] = [i.month for i in future_dates]\n",
    "future_df['Year'] = [i.year for i in future_dates]    \n",
    "#future_df['Series'] = np.arange(28,(28+len(future_dates)))\n",
    "future_df.head()"
   ]
  },
  {
   "cell_type": "code",
   "execution_count": null,
   "metadata": {},
   "outputs": [],
   "source": [
    "future_df"
   ]
  },
  {
   "cell_type": "code",
   "execution_count": null,
   "metadata": {},
   "outputs": [],
   "source": [
    "predictions_future = predict_model(final_best, data=future_df)\n",
    "predictions_future.head()"
   ]
  },
  {
   "cell_type": "code",
   "execution_count": null,
   "metadata": {},
   "outputs": [],
   "source": [
    "concat_df = pd.concat([data,predictions_future], axis=0)\n",
    "df2 = pd.concat([predictions.loc[:,[\"date\"]], pd.DataFrame(future_dates, columns=['date'])], ignore_index=True)\n",
    "\n",
    "concat_df_i = pd.to_datetime(df2[\"date\"])\n",
    "concat_df.set_index(concat_df_i, inplace=True)\n",
    "concat_df.head()\n",
    "#fig = px.line(concat_df, x=concat_df.index, y=[\"Close\", \"prediction_label\"], template = 'plotly_dark')\n",
    "#fig.show()"
   ]
  },
  {
   "cell_type": "code",
   "execution_count": null,
   "metadata": {},
   "outputs": [],
   "source": [
    "fig = px.line(concat_df, x=concat_df.index, y=[\"y\", \"prediction_label\"], template = 'plotly_dark')\n",
    "fig.show()"
   ]
  },
  {
   "cell_type": "code",
   "execution_count": null,
   "metadata": {},
   "outputs": [],
   "source": [
    "save_model(final_best, 'teste')"
   ]
  },
  {
   "cell_type": "code",
   "execution_count": null,
   "metadata": {},
   "outputs": [],
   "source": [
    "create_api(final_best, 'api')"
   ]
  }
 ],
 "metadata": {
  "kernelspec": {
   "display_name": "Python 3",
   "language": "python",
   "name": "python3"
  },
  "language_info": {
   "codemirror_mode": {
    "name": "ipython",
    "version": 3
   },
   "file_extension": ".py",
   "mimetype": "text/x-python",
   "name": "python",
   "nbconvert_exporter": "python",
   "pygments_lexer": "ipython3",
   "version": "3.11.1"
  },
  "orig_nbformat": 4
 },
 "nbformat": 4,
 "nbformat_minor": 2
}
